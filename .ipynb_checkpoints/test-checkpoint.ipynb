{
 "cells": [
  {
   "cell_type": "markdown",
   "metadata": {},
   "source": [
    "# Решение уравнения переноса численными методами\n",
    "## Используя схему бегущего счета и итерационные методы, решить задачу:\n",
    "\n",
    "\n",
    "\\begin{equation}\\label{lavel}\n",
    "\\frac{\\partial u}{\\partial t} + \\frac{2+\\cos u}{1 + (2u + 1 + \\sin u)^2} \\frac{\\partial u}{\\partial x} = 0, \\qquad 0 < x \\leq 1, \\\\\n",
    "u(x,0) = \\cos \\frac{\\pi x}{2}, \\\\\n",
    "u(0,t) = 1 + \\frac{1}{2} \\arctan t.\n",
    "\\end{equation}\n",
    "\n"
   ]
  },
  {
   "cell_type": "code",
   "execution_count": 1,
   "metadata": {
    "ExecuteTime": {
     "end_time": "2019-05-05T16:29:43.173037Z",
     "start_time": "2019-05-05T16:29:43.156084Z"
    }
   },
   "outputs": [
    {
     "data": {
      "text/html": [
       "        <script type=\"text/javascript\">\n",
       "        window.PlotlyConfig = {MathJaxConfig: 'local'};\n",
       "        if (window.MathJax) {MathJax.Hub.Config({SVG: {font: \"STIX-Web\"}});}\n",
       "        if (typeof require !== 'undefined') {\n",
       "        require.undef(\"plotly\");\n",
       "        requirejs.config({\n",
       "            paths: {\n",
       "                'plotly': ['https://cdn.plot.ly/plotly-latest.min']\n",
       "            }\n",
       "        });\n",
       "        require(['plotly'], function(Plotly) {\n",
       "            window._Plotly = Plotly;\n",
       "        });\n",
       "        }\n",
       "        </script>\n",
       "        "
      ]
     },
     "metadata": {},
     "output_type": "display_data"
    },
    {
     "data": {
      "text/html": [
       "        <script type=\"text/javascript\">\n",
       "        window.PlotlyConfig = {MathJaxConfig: 'local'};\n",
       "        if (window.MathJax) {MathJax.Hub.Config({SVG: {font: \"STIX-Web\"}});}\n",
       "        if (typeof require !== 'undefined') {\n",
       "        require.undef(\"plotly\");\n",
       "        requirejs.config({\n",
       "            paths: {\n",
       "                'plotly': ['https://cdn.plot.ly/plotly-latest.min']\n",
       "            }\n",
       "        });\n",
       "        require(['plotly'], function(Plotly) {\n",
       "            window._Plotly = Plotly;\n",
       "        });\n",
       "        }\n",
       "        </script>\n",
       "        "
      ]
     },
     "metadata": {},
     "output_type": "display_data"
    }
   ],
   "source": [
    "# Импортируем необходимые библиотеки\n",
    "import numpy as np\n",
    "import plotly\n",
    "import plotly.graph_objs as go\n",
    "import plotly.plotly as py\n",
    "from plotly.offline import download_plotlyjs, init_notebook_mode, plot, iplot\n",
    "init_notebook_mode(connected=True)\n",
    "import cufflinks\n",
    "cufflinks.go_offline()\n",
    "import matplotlib.pyplot as plt\n",
    "import warnings\n",
    "warnings.filterwarnings('ignore')\n",
    "%matplotlib inline"
   ]
  },
  {
   "cell_type": "markdown",
   "metadata": {
    "ExecuteTime": {
     "end_time": "2019-05-04T07:43:02.212460Z",
     "start_time": "2019-05-04T07:43:02.205003Z"
    }
   },
   "source": [
    "## Сетка\n",
    "Введем в области $\\Omega=\\{(x,t):0\\leq x<4,~~0<t<4\\} $ сетку с шагом $h_x$ по $x$ и шагом $h_t$ по $t$:\n",
    "\\begin{eqnarray}\n",
    "\\omega_{h_x, ~ h_t}=\\begin{cases}\n",
    "x_n=n\\cdot h_x, ~~h_x=\\frac{1}{N}, ~~n=\\overline{0, N}\\\\\n",
    "t_m=m\\cdot h_t, ~~h_t=\\frac{1}{M}, ~~m=\\overline{0, M}\n",
    "\\end{cases}\n",
    "\\end{eqnarray}\n",
    "\n",
    "На $\\omega_{h_x, ~ h_t}$ будем рассматривать сеточную функцию $y^m_{n}=u(x_n,t_m)$"
   ]
  },
  {
   "cell_type": "code",
   "execution_count": 30,
   "metadata": {
    "ExecuteTime": {
     "end_time": "2019-05-05T17:07:43.567890Z",
     "start_time": "2019-05-05T17:07:43.543931Z"
    }
   },
   "outputs": [],
   "source": [
    "class TransportEquationSolver:\n",
    "    '''Класс для численного решения уравнения переноса.\n",
    "    '''\n",
    "    state_functions = False\n",
    "    \n",
    "    def __init__(self, X_START=0, X_END=1, T_START=0, T_END=4, N=100, M=100, error=0.001):\n",
    "        \n",
    "        # Задание параметров сетки\n",
    "        self.X_START = X_START\n",
    "        self.X_END = X_END\n",
    "        self.T_START = T_START\n",
    "        self.T_END = T_END\n",
    "        self.N = N\n",
    "        self.M = M\n",
    "        \n",
    "        # Задание параметров метода Ньютона\n",
    "        self.error = 0.001\n",
    "        self.i_max = 1000\n",
    "        \n",
    "        # Создание сетки и шагов по x и t\n",
    "        self.x = np.linspace(X_START, X_END, N)\n",
    "        self.t = np.linspace(T_START, T_END, M)\n",
    "        self.dx = self.x[1] - self.x[0]\n",
    "        self.dt = self.t[1] - self.t[0]\n",
    "            \n",
    "    def initialize(self, C, C_integral , condition_initial, condition_border, heterogeneity, heterogeneity_div):\n",
    "        '''Метод инициализации данных. Принимает на вход функцию C, ее производную, а так же\n",
    "        начальное и граничное условия, неоднородность и производную неоднородности.\n",
    "        '''\n",
    "        \n",
    "        # Задание функций\n",
    "        self.C = C\n",
    "        self.C_integral = C_integral\n",
    "        self.condition_initial = condition_initial\n",
    "        self.condition_border = condition_border\n",
    "        self.heterogeneity = heterogeneity\n",
    "        self.heterogeneity_div = heterogeneity_div\n",
    "        self.state_functions = True\n",
    "        \n",
    "        # Создание матрицы u и заполнение соответствующих строки и столбца начальным и граничным условиями\n",
    "        self.u = np.empty((self.N, self.M))\n",
    "        self.u[0][:] = condition_border(self.t)\n",
    "        self.u = self.u.T\n",
    "        self.u[0][:] = condition_initial(self.x)\n",
    "        self.u = self.u.T\n",
    "            \n",
    "        # Значения функции u(x, t) в точка, на которых в данный момент будет выполняться шаблон\n",
    "        self.__u11 = self.u[0][0]\n",
    "        self.__u12 = self.u[0][1]\n",
    "        self.__u21 = self.u[1][0]\n",
    "        \n",
    "    def calculate_u(self):\n",
    "        '''Главный метод класса. Вычисляет значения u(x, t) на всей сетке.\n",
    "        '''\n",
    "        \n",
    "        for n in range(1, self.N):\n",
    "            for m in range(1, self.M):\n",
    "                \n",
    "                # Определение точек, на которых будет работать шаблон\n",
    "                self.__u11 = self.u[n-1][m-1]\n",
    "                self.__u21 = self.u[n][m-1]\n",
    "                self.__u12 = self.u[n-1][m]\n",
    "                \n",
    "                # Вычисление значения u в новой точке\n",
    "                u_new = self.solve_newton(self.template, self.template_div, self.__u11, self.i_max)\n",
    "                self.u[n][m] = u_new\n",
    "                    \n",
    "    def plot_conditions(self):\n",
    "        '''Метод, который строит график начального и граничного условий.\n",
    "        '''\n",
    "        \n",
    "        f, axs = plt.subplots(2,2,figsize=(14,7))\n",
    "        f.suptitle('Conditions plot', )\n",
    "        plt.subplot(1, 2, 1)\n",
    "        plt.title('Initial Condition')\n",
    "        plt.xlabel('x')\n",
    "        plt.ylabel('u')\n",
    "        plt.plot(self.x, self.u[:][0])\n",
    "        plt.subplot(1, 2, 2)\n",
    "        plt.title('Border Condition')\n",
    "        plt.xlabel('t')\n",
    "        plt.ylabel('u')\n",
    "        plt.plot(self.t, self.u.T[0][:])\n",
    "        \n",
    "    def template(self, u22):\n",
    "        '''Четырехточечный шаблон.\n",
    "        '''\n",
    "        \n",
    "        return 0.5*(self.__u12 - self.__u11 + u22 - self.__u21) / self.dt + 0.5*(self.C_integral(u22) -\n",
    "                                                                                 self.C_integral(self.__u12) + \n",
    "                                                                                 self.C_integral(self.__u21) - \n",
    "                                                                                 self.C_integral(self.__u11)) / self.dx - self.heterogeneity((self.__u11 + self.__u12 + self.__u21 + u22)/4)\n",
    "                \n",
    "    def template_div(self, u22):\n",
    "        '''Производная четырехточечного шаблона.\n",
    "        '''\n",
    "        return 0.5 / self.dt + 0.5*(self.C(u22)) / self.dx - self.heterogeneity_div((self.__u11 + self.__u12 + self.__u21 + u22)/4)\n",
    "        \n",
    "    def solve_newton(self, f, f_div, x0, i_max):\n",
    "        '''Численное вычисление корня функции при помощи метода Ньютона.\n",
    "        Принимает на вход функцию, ее производную, начальное приближение и максимальное число итераций.\n",
    "        '''\n",
    "        \n",
    "        x = x0\n",
    "        i = 0\n",
    "        while abs(f(x)) > self.error and i < i_max:\n",
    "            x += (-f(x) / f_div(x))\n",
    "            i+=1\n",
    "        return x"
   ]
  },
  {
   "cell_type": "markdown",
   "metadata": {},
   "source": [
    "Зададим все функции нашей задачи"
   ]
  },
  {
   "cell_type": "code",
   "execution_count": 41,
   "metadata": {
    "ExecuteTime": {
     "end_time": "2019-05-05T17:15:41.577674Z",
     "start_time": "2019-05-05T17:15:41.571691Z"
    }
   },
   "outputs": [],
   "source": [
    "def C(u):\n",
    "    return (2 + np.cos(u)) / (1 + 2*u + 1 + np.sin(u))**2\n",
    "\n",
    "def C_integral(u):\n",
    "    return np.arctan(2*u + np.sin(u) + 1)\n",
    "\n",
    "def condition_initial(x):\n",
    "    return np.cos(np.pi*x/2)\n",
    "\n",
    "def condition_border(t):\n",
    "    return 1 + 0.5*np.arctan(t)\n",
    "\n",
    "def heterogeneity(u):\n",
    "    return 0\n",
    "\n",
    "def  heterogeneity_div(u):\n",
    "    return 0"
   ]
  },
  {
   "cell_type": "markdown",
   "metadata": {},
   "source": [
    "Создадим объект класса TransportEquationSolver, инициализируем нашу задачу."
   ]
  },
  {
   "cell_type": "code",
   "execution_count": 42,
   "metadata": {
    "ExecuteTime": {
     "end_time": "2019-05-05T17:15:42.008565Z",
     "start_time": "2019-05-05T17:15:42.003560Z"
    }
   },
   "outputs": [],
   "source": [
    "Z = TransportEquationSolver()\n",
    "Z.initialize(C, C_integral, condition_initial, condition_border,  heterogeneity,  heterogeneity_div)"
   ]
  },
  {
   "cell_type": "markdown",
   "metadata": {},
   "source": [
    "Построим график начального и граничных условий."
   ]
  },
  {
   "cell_type": "code",
   "execution_count": 43,
   "metadata": {
    "ExecuteTime": {
     "end_time": "2019-05-05T17:15:42.898267Z",
     "start_time": "2019-05-05T17:15:42.456406Z"
    },
    "scrolled": false
   },
   "outputs": [
    {
     "data": {
      "image/png": "[encoded data removed]",
      "text/plain": [
       "<Figure size 1008x504 with 2 Axes>"
      ]
     },
     "metadata": {
      "needs_background": "light"
     },
     "output_type": "display_data"
    }
   ],
   "source": [
    "Z.plot_conditions()"
   ]
  },
  {
   "cell_type": "markdown",
   "metadata": {},
   "source": [
    "Вычислим значение функции u(x, t) во всех точках сетки."
   ]
  },
  {
   "cell_type": "code",
   "execution_count": 44,
   "metadata": {
    "ExecuteTime": {
     "end_time": "2019-05-05T17:15:44.723890Z",
     "start_time": "2019-05-05T17:15:43.365026Z"
    }
   },
   "outputs": [],
   "source": [
    "Z.calculate_u()"
   ]
  },
  {
   "cell_type": "markdown",
   "metadata": {
    "ExecuteTime": {
     "end_time": "2019-05-05T14:39:22.245326Z",
     "start_time": "2019-05-05T14:39:22.128589Z"
    }
   },
   "source": [
    "Построим график численного решения."
   ]
  },
  {
   "cell_type": "code",
   "execution_count": 45,
   "metadata": {
    "ExecuteTime": {
     "end_time": "2019-05-05T17:15:47.168532Z",
     "start_time": "2019-05-05T17:15:44.725855Z"
    }
   },
   "outputs": [
    {
     "data": {
      "text/html": [
       "<iframe id=\"igraph\" scrolling=\"no\" style=\"border:none;\" seamless=\"seamless\" src=\"https://plot.ly/~danielgafni/75.embed\" height=\"525px\" width=\"100%\"></iframe>"
      ],
      "text/plain": [
       "<chart_studio.tools.PlotlyDisplay object>"
      ]
     },
     "execution_count": 45,
     "metadata": {},
     "output_type": "execute_result"
    }
   ],
   "source": [
    "x, t, u = Z.x, Z.t, Z.u\n",
    " #Построение графиков\n",
    "data = [go.Surface(x = x, y = t, z = u)]\n",
    "layout = go.Layout(width = 1000, height = 1000, \n",
    "                   \n",
    "    xaxis=go.layout.XAxis(\n",
    "        title=go.layout.xaxis.Title(\n",
    "            text='x'\n",
    "            )\n",
    "        ),\n",
    "    yaxis=go.layout.YAxis(\n",
    "        title=go.layout.yaxis.Title(\n",
    "            text='t'\n",
    "        )\n",
    "    ))\n",
    "fig = go.Figure(data = data)\n",
    "py.iplot(fig, filename = 'test')"
   ]
  },
  {
   "cell_type": "code",
   "execution_count": null,
   "metadata": {},
   "outputs": [],
   "source": []
  }
 ],
 "metadata": {
  "hide_input": false,
  "kernelspec": {
   "display_name": "Python 3",
   "language": "python",
   "name": "python3"
  },
  "language_info": {
   "codemirror_mode": {
    "name": "ipython",
    "version": 3
   },
   "file_extension": ".py",
   "mimetype": "text/x-python",
   "name": "python",
   "nbconvert_exporter": "python",
   "pygments_lexer": "ipython3",
   "version": "3.6.8"
  },
  "latex_envs": {
   "LaTeX_envs_menu_present": true,
   "autoclose": false,
   "autocomplete": true,
   "bibliofile": "biblio.bib",
   "cite_by": "apalike",
   "current_citInitial": 1,
   "eqLabelWithNumbers": true,
   "eqNumInitial": 1,
   "hotkeys": {
    "equation": "Ctrl-E",
    "itemize": "Ctrl-I"
   },
   "labels_anchors": false,
   "latex_user_defs": false,
   "report_style_numbering": false,
   "user_envs_cfg": false
  }
 },
 "nbformat": 4,
 "nbformat_minor": 2
}
